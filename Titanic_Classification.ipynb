{
  "nbformat": 4,
  "nbformat_minor": 0,
  "metadata": {
    "colab": {
      "name": "Titanic_Classification.ipynb",
      "provenance": [],
      "collapsed_sections": [],
      "mount_file_id": "1t24GNufw2qn_IgEWrKas7Hlt3V6JO8Y8",
      "authorship_tag": "ABX9TyNBe7noFLYNyhfd5ho+oZKe",
      "include_colab_link": true
    },
    "kernelspec": {
      "name": "python3",
      "display_name": "Python 3"
    },
    "language_info": {
      "name": "python"
    }
  },
  "cells": [
    {
      "cell_type": "markdown",
      "metadata": {
        "id": "view-in-github",
        "colab_type": "text"
      },
      "source": [
        "<a href=\"https://colab.research.google.com/github/king-ayush/king-ayush/blob/main/Titanic_Classification.ipynb\" target=\"_parent\"><img src=\"https://colab.research.google.com/assets/colab-badge.svg\" alt=\"Open In Colab\"/></a>"
      ]
    },
    {
      "cell_type": "markdown",
      "source": [
        "Titanic Dataset"
      ],
      "metadata": {
        "id": "0PZkYdynMyZL"
      }
    },
    {
      "cell_type": "code",
      "source": [
        "import numpy as np\n",
        "import pandas as pd"
      ],
      "metadata": {
        "id": "dIozkxjpM01H"
      },
      "execution_count": null,
      "outputs": []
    },
    {
      "cell_type": "code",
      "source": [
        "df_train=pd.read_csv(\"/content/drive/MyDrive/train.csv\")"
      ],
      "metadata": {
        "id": "tzbzkfF0M6zY"
      },
      "execution_count": null,
      "outputs": []
    },
    {
      "cell_type": "code",
      "source": [
        "df_test=pd.read_csv(\"/content/drive/MyDrive/train.csv\")"
      ],
      "metadata": {
        "id": "RsfaIxrUOMsz"
      },
      "execution_count": null,
      "outputs": []
    },
    {
      "cell_type": "code",
      "source": [
        "df_train.head(10)"
      ],
      "metadata": {
        "colab": {
          "base_uri": "https://localhost:8080/",
          "height": 322
        },
        "id": "9hLSRicSO3IU",
        "outputId": "0fda0345-5f90-48ec-bd38-be4d404d3274"
      },
      "execution_count": null,
      "outputs": [
        {
          "output_type": "execute_result",
          "data": {
            "text/html": [
              "\n",
              "  <div id=\"df-75b1a39f-a299-4cf7-8a58-8cb80b61e21e\">\n",
              "    <div class=\"colab-df-container\">\n",
              "      <div>\n",
              "<style scoped>\n",
              "    .dataframe tbody tr th:only-of-type {\n",
              "        vertical-align: middle;\n",
              "    }\n",
              "\n",
              "    .dataframe tbody tr th {\n",
              "        vertical-align: top;\n",
              "    }\n",
              "\n",
              "    .dataframe thead th {\n",
              "        text-align: right;\n",
              "    }\n",
              "</style>\n",
              "<table border=\"1\" class=\"dataframe\">\n",
              "  <thead>\n",
              "    <tr style=\"text-align: right;\">\n",
              "      <th></th>\n",
              "      <th>PassengerId</th>\n",
              "      <th>Survived</th>\n",
              "      <th>Pclass</th>\n",
              "      <th>Name</th>\n",
              "      <th>Sex</th>\n",
              "      <th>Age</th>\n",
              "      <th>SibSp</th>\n",
              "      <th>Parch</th>\n",
              "      <th>Ticket</th>\n",
              "      <th>Fare</th>\n",
              "      <th>Cabin</th>\n",
              "      <th>Embarked</th>\n",
              "    </tr>\n",
              "  </thead>\n",
              "  <tbody>\n",
              "    <tr>\n",
              "      <th>0</th>\n",
              "      <td>1</td>\n",
              "      <td>0</td>\n",
              "      <td>3</td>\n",
              "      <td>Braund, Mr. Owen Harris</td>\n",
              "      <td>male</td>\n",
              "      <td>22.0</td>\n",
              "      <td>1</td>\n",
              "      <td>0</td>\n",
              "      <td>A/5 21171</td>\n",
              "      <td>7.2500</td>\n",
              "      <td>NaN</td>\n",
              "      <td>S</td>\n",
              "    </tr>\n",
              "    <tr>\n",
              "      <th>1</th>\n",
              "      <td>2</td>\n",
              "      <td>1</td>\n",
              "      <td>1</td>\n",
              "      <td>Cumings, Mrs. John Bradley (Florence Briggs Th...</td>\n",
              "      <td>female</td>\n",
              "      <td>38.0</td>\n",
              "      <td>1</td>\n",
              "      <td>0</td>\n",
              "      <td>PC 17599</td>\n",
              "      <td>71.2833</td>\n",
              "      <td>C85</td>\n",
              "      <td>C</td>\n",
              "    </tr>\n",
              "    <tr>\n",
              "      <th>2</th>\n",
              "      <td>3</td>\n",
              "      <td>1</td>\n",
              "      <td>3</td>\n",
              "      <td>Heikkinen, Miss. Laina</td>\n",
              "      <td>female</td>\n",
              "      <td>26.0</td>\n",
              "      <td>0</td>\n",
              "      <td>0</td>\n",
              "      <td>STON/O2. 3101282</td>\n",
              "      <td>7.9250</td>\n",
              "      <td>NaN</td>\n",
              "      <td>S</td>\n",
              "    </tr>\n",
              "    <tr>\n",
              "      <th>3</th>\n",
              "      <td>4</td>\n",
              "      <td>1</td>\n",
              "      <td>1</td>\n",
              "      <td>Futrelle, Mrs. Jacques Heath (Lily May Peel)</td>\n",
              "      <td>female</td>\n",
              "      <td>35.0</td>\n",
              "      <td>1</td>\n",
              "      <td>0</td>\n",
              "      <td>113803</td>\n",
              "      <td>53.1000</td>\n",
              "      <td>C123</td>\n",
              "      <td>S</td>\n",
              "    </tr>\n",
              "    <tr>\n",
              "      <th>4</th>\n",
              "      <td>5</td>\n",
              "      <td>0</td>\n",
              "      <td>3</td>\n",
              "      <td>Allen, Mr. William Henry</td>\n",
              "      <td>male</td>\n",
              "      <td>35.0</td>\n",
              "      <td>0</td>\n",
              "      <td>0</td>\n",
              "      <td>373450</td>\n",
              "      <td>8.0500</td>\n",
              "      <td>NaN</td>\n",
              "      <td>S</td>\n",
              "    </tr>\n",
              "    <tr>\n",
              "      <th>5</th>\n",
              "      <td>6</td>\n",
              "      <td>0</td>\n",
              "      <td>3</td>\n",
              "      <td>Moran, Mr. James</td>\n",
              "      <td>male</td>\n",
              "      <td>NaN</td>\n",
              "      <td>0</td>\n",
              "      <td>0</td>\n",
              "      <td>330877</td>\n",
              "      <td>8.4583</td>\n",
              "      <td>NaN</td>\n",
              "      <td>Q</td>\n",
              "    </tr>\n",
              "    <tr>\n",
              "      <th>6</th>\n",
              "      <td>7</td>\n",
              "      <td>0</td>\n",
              "      <td>1</td>\n",
              "      <td>McCarthy, Mr. Timothy J</td>\n",
              "      <td>male</td>\n",
              "      <td>54.0</td>\n",
              "      <td>0</td>\n",
              "      <td>0</td>\n",
              "      <td>17463</td>\n",
              "      <td>51.8625</td>\n",
              "      <td>E46</td>\n",
              "      <td>S</td>\n",
              "    </tr>\n",
              "    <tr>\n",
              "      <th>7</th>\n",
              "      <td>8</td>\n",
              "      <td>0</td>\n",
              "      <td>3</td>\n",
              "      <td>Palsson, Master. Gosta Leonard</td>\n",
              "      <td>male</td>\n",
              "      <td>2.0</td>\n",
              "      <td>3</td>\n",
              "      <td>1</td>\n",
              "      <td>349909</td>\n",
              "      <td>21.0750</td>\n",
              "      <td>NaN</td>\n",
              "      <td>S</td>\n",
              "    </tr>\n",
              "    <tr>\n",
              "      <th>8</th>\n",
              "      <td>9</td>\n",
              "      <td>1</td>\n",
              "      <td>3</td>\n",
              "      <td>Johnson, Mrs. Oscar W (Elisabeth Vilhelmina Berg)</td>\n",
              "      <td>female</td>\n",
              "      <td>27.0</td>\n",
              "      <td>0</td>\n",
              "      <td>2</td>\n",
              "      <td>347742</td>\n",
              "      <td>11.1333</td>\n",
              "      <td>NaN</td>\n",
              "      <td>S</td>\n",
              "    </tr>\n",
              "    <tr>\n",
              "      <th>9</th>\n",
              "      <td>10</td>\n",
              "      <td>1</td>\n",
              "      <td>2</td>\n",
              "      <td>Nasser, Mrs. Nicholas (Adele Achem)</td>\n",
              "      <td>female</td>\n",
              "      <td>14.0</td>\n",
              "      <td>1</td>\n",
              "      <td>0</td>\n",
              "      <td>237736</td>\n",
              "      <td>30.0708</td>\n",
              "      <td>NaN</td>\n",
              "      <td>C</td>\n",
              "    </tr>\n",
              "  </tbody>\n",
              "</table>\n",
              "</div>\n",
              "      <button class=\"colab-df-convert\" onclick=\"convertToInteractive('df-75b1a39f-a299-4cf7-8a58-8cb80b61e21e')\"\n",
              "              title=\"Convert this dataframe to an interactive table.\"\n",
              "              style=\"display:none;\">\n",
              "        \n",
              "  <svg xmlns=\"http://www.w3.org/2000/svg\" height=\"24px\"viewBox=\"0 0 24 24\"\n",
              "       width=\"24px\">\n",
              "    <path d=\"M0 0h24v24H0V0z\" fill=\"none\"/>\n",
              "    <path d=\"M18.56 5.44l.94 2.06.94-2.06 2.06-.94-2.06-.94-.94-2.06-.94 2.06-2.06.94zm-11 1L8.5 8.5l.94-2.06 2.06-.94-2.06-.94L8.5 2.5l-.94 2.06-2.06.94zm10 10l.94 2.06.94-2.06 2.06-.94-2.06-.94-.94-2.06-.94 2.06-2.06.94z\"/><path d=\"M17.41 7.96l-1.37-1.37c-.4-.4-.92-.59-1.43-.59-.52 0-1.04.2-1.43.59L10.3 9.45l-7.72 7.72c-.78.78-.78 2.05 0 2.83L4 21.41c.39.39.9.59 1.41.59.51 0 1.02-.2 1.41-.59l7.78-7.78 2.81-2.81c.8-.78.8-2.07 0-2.86zM5.41 20L4 18.59l7.72-7.72 1.47 1.35L5.41 20z\"/>\n",
              "  </svg>\n",
              "      </button>\n",
              "      \n",
              "  <style>\n",
              "    .colab-df-container {\n",
              "      display:flex;\n",
              "      flex-wrap:wrap;\n",
              "      gap: 12px;\n",
              "    }\n",
              "\n",
              "    .colab-df-convert {\n",
              "      background-color: #E8F0FE;\n",
              "      border: none;\n",
              "      border-radius: 50%;\n",
              "      cursor: pointer;\n",
              "      display: none;\n",
              "      fill: #1967D2;\n",
              "      height: 32px;\n",
              "      padding: 0 0 0 0;\n",
              "      width: 32px;\n",
              "    }\n",
              "\n",
              "    .colab-df-convert:hover {\n",
              "      background-color: #E2EBFA;\n",
              "      box-shadow: 0px 1px 2px rgba(60, 64, 67, 0.3), 0px 1px 3px 1px rgba(60, 64, 67, 0.15);\n",
              "      fill: #174EA6;\n",
              "    }\n",
              "\n",
              "    [theme=dark] .colab-df-convert {\n",
              "      background-color: #3B4455;\n",
              "      fill: #D2E3FC;\n",
              "    }\n",
              "\n",
              "    [theme=dark] .colab-df-convert:hover {\n",
              "      background-color: #434B5C;\n",
              "      box-shadow: 0px 1px 3px 1px rgba(0, 0, 0, 0.15);\n",
              "      filter: drop-shadow(0px 1px 2px rgba(0, 0, 0, 0.3));\n",
              "      fill: #FFFFFF;\n",
              "    }\n",
              "  </style>\n",
              "\n",
              "      <script>\n",
              "        const buttonEl =\n",
              "          document.querySelector('#df-75b1a39f-a299-4cf7-8a58-8cb80b61e21e button.colab-df-convert');\n",
              "        buttonEl.style.display =\n",
              "          google.colab.kernel.accessAllowed ? 'block' : 'none';\n",
              "\n",
              "        async function convertToInteractive(key) {\n",
              "          const element = document.querySelector('#df-75b1a39f-a299-4cf7-8a58-8cb80b61e21e');\n",
              "          const dataTable =\n",
              "            await google.colab.kernel.invokeFunction('convertToInteractive',\n",
              "                                                     [key], {});\n",
              "          if (!dataTable) return;\n",
              "\n",
              "          const docLinkHtml = 'Like what you see? Visit the ' +\n",
              "            '<a target=\"_blank\" href=https://colab.research.google.com/notebooks/data_table.ipynb>data table notebook</a>'\n",
              "            + ' to learn more about interactive tables.';\n",
              "          element.innerHTML = '';\n",
              "          dataTable['output_type'] = 'display_data';\n",
              "          await google.colab.output.renderOutput(dataTable, element);\n",
              "          const docLink = document.createElement('div');\n",
              "          docLink.innerHTML = docLinkHtml;\n",
              "          element.appendChild(docLink);\n",
              "        }\n",
              "      </script>\n",
              "    </div>\n",
              "  </div>\n",
              "  "
            ],
            "text/plain": [
              "   PassengerId  Survived  Pclass  ...     Fare Cabin  Embarked\n",
              "0            1         0       3  ...   7.2500   NaN         S\n",
              "1            2         1       1  ...  71.2833   C85         C\n",
              "2            3         1       3  ...   7.9250   NaN         S\n",
              "3            4         1       1  ...  53.1000  C123         S\n",
              "4            5         0       3  ...   8.0500   NaN         S\n",
              "5            6         0       3  ...   8.4583   NaN         Q\n",
              "6            7         0       1  ...  51.8625   E46         S\n",
              "7            8         0       3  ...  21.0750   NaN         S\n",
              "8            9         1       3  ...  11.1333   NaN         S\n",
              "9           10         1       2  ...  30.0708   NaN         C\n",
              "\n",
              "[10 rows x 12 columns]"
            ]
          },
          "metadata": {},
          "execution_count": 7
        }
      ]
    },
    {
      "cell_type": "code",
      "source": [
        "df_train.isnull()"
      ],
      "metadata": {
        "colab": {
          "base_uri": "https://localhost:8080/",
          "height": 423
        },
        "id": "sft4bRv8O6pA",
        "outputId": "f652c7b3-8684-4ba0-d0d0-35e63f8a8f67"
      },
      "execution_count": null,
      "outputs": [
        {
          "output_type": "execute_result",
          "data": {
            "text/html": [
              "\n",
              "  <div id=\"df-e061d1e2-1647-443c-a836-1485975b690f\">\n",
              "    <div class=\"colab-df-container\">\n",
              "      <div>\n",
              "<style scoped>\n",
              "    .dataframe tbody tr th:only-of-type {\n",
              "        vertical-align: middle;\n",
              "    }\n",
              "\n",
              "    .dataframe tbody tr th {\n",
              "        vertical-align: top;\n",
              "    }\n",
              "\n",
              "    .dataframe thead th {\n",
              "        text-align: right;\n",
              "    }\n",
              "</style>\n",
              "<table border=\"1\" class=\"dataframe\">\n",
              "  <thead>\n",
              "    <tr style=\"text-align: right;\">\n",
              "      <th></th>\n",
              "      <th>PassengerId</th>\n",
              "      <th>Survived</th>\n",
              "      <th>Pclass</th>\n",
              "      <th>Name</th>\n",
              "      <th>Sex</th>\n",
              "      <th>Age</th>\n",
              "      <th>SibSp</th>\n",
              "      <th>Parch</th>\n",
              "      <th>Ticket</th>\n",
              "      <th>Fare</th>\n",
              "      <th>Cabin</th>\n",
              "      <th>Embarked</th>\n",
              "    </tr>\n",
              "  </thead>\n",
              "  <tbody>\n",
              "    <tr>\n",
              "      <th>0</th>\n",
              "      <td>False</td>\n",
              "      <td>False</td>\n",
              "      <td>False</td>\n",
              "      <td>False</td>\n",
              "      <td>False</td>\n",
              "      <td>False</td>\n",
              "      <td>False</td>\n",
              "      <td>False</td>\n",
              "      <td>False</td>\n",
              "      <td>False</td>\n",
              "      <td>True</td>\n",
              "      <td>False</td>\n",
              "    </tr>\n",
              "    <tr>\n",
              "      <th>1</th>\n",
              "      <td>False</td>\n",
              "      <td>False</td>\n",
              "      <td>False</td>\n",
              "      <td>False</td>\n",
              "      <td>False</td>\n",
              "      <td>False</td>\n",
              "      <td>False</td>\n",
              "      <td>False</td>\n",
              "      <td>False</td>\n",
              "      <td>False</td>\n",
              "      <td>False</td>\n",
              "      <td>False</td>\n",
              "    </tr>\n",
              "    <tr>\n",
              "      <th>2</th>\n",
              "      <td>False</td>\n",
              "      <td>False</td>\n",
              "      <td>False</td>\n",
              "      <td>False</td>\n",
              "      <td>False</td>\n",
              "      <td>False</td>\n",
              "      <td>False</td>\n",
              "      <td>False</td>\n",
              "      <td>False</td>\n",
              "      <td>False</td>\n",
              "      <td>True</td>\n",
              "      <td>False</td>\n",
              "    </tr>\n",
              "    <tr>\n",
              "      <th>3</th>\n",
              "      <td>False</td>\n",
              "      <td>False</td>\n",
              "      <td>False</td>\n",
              "      <td>False</td>\n",
              "      <td>False</td>\n",
              "      <td>False</td>\n",
              "      <td>False</td>\n",
              "      <td>False</td>\n",
              "      <td>False</td>\n",
              "      <td>False</td>\n",
              "      <td>False</td>\n",
              "      <td>False</td>\n",
              "    </tr>\n",
              "    <tr>\n",
              "      <th>4</th>\n",
              "      <td>False</td>\n",
              "      <td>False</td>\n",
              "      <td>False</td>\n",
              "      <td>False</td>\n",
              "      <td>False</td>\n",
              "      <td>False</td>\n",
              "      <td>False</td>\n",
              "      <td>False</td>\n",
              "      <td>False</td>\n",
              "      <td>False</td>\n",
              "      <td>True</td>\n",
              "      <td>False</td>\n",
              "    </tr>\n",
              "    <tr>\n",
              "      <th>...</th>\n",
              "      <td>...</td>\n",
              "      <td>...</td>\n",
              "      <td>...</td>\n",
              "      <td>...</td>\n",
              "      <td>...</td>\n",
              "      <td>...</td>\n",
              "      <td>...</td>\n",
              "      <td>...</td>\n",
              "      <td>...</td>\n",
              "      <td>...</td>\n",
              "      <td>...</td>\n",
              "      <td>...</td>\n",
              "    </tr>\n",
              "    <tr>\n",
              "      <th>886</th>\n",
              "      <td>False</td>\n",
              "      <td>False</td>\n",
              "      <td>False</td>\n",
              "      <td>False</td>\n",
              "      <td>False</td>\n",
              "      <td>False</td>\n",
              "      <td>False</td>\n",
              "      <td>False</td>\n",
              "      <td>False</td>\n",
              "      <td>False</td>\n",
              "      <td>True</td>\n",
              "      <td>False</td>\n",
              "    </tr>\n",
              "    <tr>\n",
              "      <th>887</th>\n",
              "      <td>False</td>\n",
              "      <td>False</td>\n",
              "      <td>False</td>\n",
              "      <td>False</td>\n",
              "      <td>False</td>\n",
              "      <td>False</td>\n",
              "      <td>False</td>\n",
              "      <td>False</td>\n",
              "      <td>False</td>\n",
              "      <td>False</td>\n",
              "      <td>False</td>\n",
              "      <td>False</td>\n",
              "    </tr>\n",
              "    <tr>\n",
              "      <th>888</th>\n",
              "      <td>False</td>\n",
              "      <td>False</td>\n",
              "      <td>False</td>\n",
              "      <td>False</td>\n",
              "      <td>False</td>\n",
              "      <td>True</td>\n",
              "      <td>False</td>\n",
              "      <td>False</td>\n",
              "      <td>False</td>\n",
              "      <td>False</td>\n",
              "      <td>True</td>\n",
              "      <td>False</td>\n",
              "    </tr>\n",
              "    <tr>\n",
              "      <th>889</th>\n",
              "      <td>False</td>\n",
              "      <td>False</td>\n",
              "      <td>False</td>\n",
              "      <td>False</td>\n",
              "      <td>False</td>\n",
              "      <td>False</td>\n",
              "      <td>False</td>\n",
              "      <td>False</td>\n",
              "      <td>False</td>\n",
              "      <td>False</td>\n",
              "      <td>False</td>\n",
              "      <td>False</td>\n",
              "    </tr>\n",
              "    <tr>\n",
              "      <th>890</th>\n",
              "      <td>False</td>\n",
              "      <td>False</td>\n",
              "      <td>False</td>\n",
              "      <td>False</td>\n",
              "      <td>False</td>\n",
              "      <td>False</td>\n",
              "      <td>False</td>\n",
              "      <td>False</td>\n",
              "      <td>False</td>\n",
              "      <td>False</td>\n",
              "      <td>True</td>\n",
              "      <td>False</td>\n",
              "    </tr>\n",
              "  </tbody>\n",
              "</table>\n",
              "<p>891 rows × 12 columns</p>\n",
              "</div>\n",
              "      <button class=\"colab-df-convert\" onclick=\"convertToInteractive('df-e061d1e2-1647-443c-a836-1485975b690f')\"\n",
              "              title=\"Convert this dataframe to an interactive table.\"\n",
              "              style=\"display:none;\">\n",
              "        \n",
              "  <svg xmlns=\"http://www.w3.org/2000/svg\" height=\"24px\"viewBox=\"0 0 24 24\"\n",
              "       width=\"24px\">\n",
              "    <path d=\"M0 0h24v24H0V0z\" fill=\"none\"/>\n",
              "    <path d=\"M18.56 5.44l.94 2.06.94-2.06 2.06-.94-2.06-.94-.94-2.06-.94 2.06-2.06.94zm-11 1L8.5 8.5l.94-2.06 2.06-.94-2.06-.94L8.5 2.5l-.94 2.06-2.06.94zm10 10l.94 2.06.94-2.06 2.06-.94-2.06-.94-.94-2.06-.94 2.06-2.06.94z\"/><path d=\"M17.41 7.96l-1.37-1.37c-.4-.4-.92-.59-1.43-.59-.52 0-1.04.2-1.43.59L10.3 9.45l-7.72 7.72c-.78.78-.78 2.05 0 2.83L4 21.41c.39.39.9.59 1.41.59.51 0 1.02-.2 1.41-.59l7.78-7.78 2.81-2.81c.8-.78.8-2.07 0-2.86zM5.41 20L4 18.59l7.72-7.72 1.47 1.35L5.41 20z\"/>\n",
              "  </svg>\n",
              "      </button>\n",
              "      \n",
              "  <style>\n",
              "    .colab-df-container {\n",
              "      display:flex;\n",
              "      flex-wrap:wrap;\n",
              "      gap: 12px;\n",
              "    }\n",
              "\n",
              "    .colab-df-convert {\n",
              "      background-color: #E8F0FE;\n",
              "      border: none;\n",
              "      border-radius: 50%;\n",
              "      cursor: pointer;\n",
              "      display: none;\n",
              "      fill: #1967D2;\n",
              "      height: 32px;\n",
              "      padding: 0 0 0 0;\n",
              "      width: 32px;\n",
              "    }\n",
              "\n",
              "    .colab-df-convert:hover {\n",
              "      background-color: #E2EBFA;\n",
              "      box-shadow: 0px 1px 2px rgba(60, 64, 67, 0.3), 0px 1px 3px 1px rgba(60, 64, 67, 0.15);\n",
              "      fill: #174EA6;\n",
              "    }\n",
              "\n",
              "    [theme=dark] .colab-df-convert {\n",
              "      background-color: #3B4455;\n",
              "      fill: #D2E3FC;\n",
              "    }\n",
              "\n",
              "    [theme=dark] .colab-df-convert:hover {\n",
              "      background-color: #434B5C;\n",
              "      box-shadow: 0px 1px 3px 1px rgba(0, 0, 0, 0.15);\n",
              "      filter: drop-shadow(0px 1px 2px rgba(0, 0, 0, 0.3));\n",
              "      fill: #FFFFFF;\n",
              "    }\n",
              "  </style>\n",
              "\n",
              "      <script>\n",
              "        const buttonEl =\n",
              "          document.querySelector('#df-e061d1e2-1647-443c-a836-1485975b690f button.colab-df-convert');\n",
              "        buttonEl.style.display =\n",
              "          google.colab.kernel.accessAllowed ? 'block' : 'none';\n",
              "\n",
              "        async function convertToInteractive(key) {\n",
              "          const element = document.querySelector('#df-e061d1e2-1647-443c-a836-1485975b690f');\n",
              "          const dataTable =\n",
              "            await google.colab.kernel.invokeFunction('convertToInteractive',\n",
              "                                                     [key], {});\n",
              "          if (!dataTable) return;\n",
              "\n",
              "          const docLinkHtml = 'Like what you see? Visit the ' +\n",
              "            '<a target=\"_blank\" href=https://colab.research.google.com/notebooks/data_table.ipynb>data table notebook</a>'\n",
              "            + ' to learn more about interactive tables.';\n",
              "          element.innerHTML = '';\n",
              "          dataTable['output_type'] = 'display_data';\n",
              "          await google.colab.output.renderOutput(dataTable, element);\n",
              "          const docLink = document.createElement('div');\n",
              "          docLink.innerHTML = docLinkHtml;\n",
              "          element.appendChild(docLink);\n",
              "        }\n",
              "      </script>\n",
              "    </div>\n",
              "  </div>\n",
              "  "
            ],
            "text/plain": [
              "     PassengerId  Survived  Pclass   Name  ...  Ticket   Fare  Cabin  Embarked\n",
              "0          False     False   False  False  ...   False  False   True     False\n",
              "1          False     False   False  False  ...   False  False  False     False\n",
              "2          False     False   False  False  ...   False  False   True     False\n",
              "3          False     False   False  False  ...   False  False  False     False\n",
              "4          False     False   False  False  ...   False  False   True     False\n",
              "..           ...       ...     ...    ...  ...     ...    ...    ...       ...\n",
              "886        False     False   False  False  ...   False  False   True     False\n",
              "887        False     False   False  False  ...   False  False  False     False\n",
              "888        False     False   False  False  ...   False  False   True     False\n",
              "889        False     False   False  False  ...   False  False  False     False\n",
              "890        False     False   False  False  ...   False  False   True     False\n",
              "\n",
              "[891 rows x 12 columns]"
            ]
          },
          "metadata": {},
          "execution_count": 8
        }
      ]
    },
    {
      "cell_type": "code",
      "source": [
        "df_train.info()"
      ],
      "metadata": {
        "colab": {
          "base_uri": "https://localhost:8080/"
        },
        "id": "SXxYYX5UPREN",
        "outputId": "984b5c2e-f8ab-4ed6-f684-702f92f4e56e"
      },
      "execution_count": null,
      "outputs": [
        {
          "output_type": "stream",
          "name": "stdout",
          "text": [
            "<class 'pandas.core.frame.DataFrame'>\n",
            "RangeIndex: 891 entries, 0 to 890\n",
            "Data columns (total 12 columns):\n",
            " #   Column       Non-Null Count  Dtype  \n",
            "---  ------       --------------  -----  \n",
            " 0   PassengerId  891 non-null    int64  \n",
            " 1   Survived     891 non-null    int64  \n",
            " 2   Pclass       891 non-null    int64  \n",
            " 3   Name         891 non-null    object \n",
            " 4   Sex          891 non-null    object \n",
            " 5   Age          714 non-null    float64\n",
            " 6   SibSp        891 non-null    int64  \n",
            " 7   Parch        891 non-null    int64  \n",
            " 8   Ticket       891 non-null    object \n",
            " 9   Fare         891 non-null    float64\n",
            " 10  Cabin        204 non-null    object \n",
            " 11  Embarked     889 non-null    object \n",
            "dtypes: float64(2), int64(5), object(5)\n",
            "memory usage: 83.7+ KB\n"
          ]
        }
      ]
    },
    {
      "cell_type": "code",
      "source": [
        "df_train.describe()"
      ],
      "metadata": {
        "colab": {
          "base_uri": "https://localhost:8080/",
          "height": 300
        },
        "id": "hlIS3J6UQyoI",
        "outputId": "26fbf12e-a754-4472-dc4c-614ea4c0e1b1"
      },
      "execution_count": null,
      "outputs": [
        {
          "output_type": "execute_result",
          "data": {
            "text/html": [
              "\n",
              "  <div id=\"df-d6e08309-fa3a-4410-9ce9-c00c66dc55ef\">\n",
              "    <div class=\"colab-df-container\">\n",
              "      <div>\n",
              "<style scoped>\n",
              "    .dataframe tbody tr th:only-of-type {\n",
              "        vertical-align: middle;\n",
              "    }\n",
              "\n",
              "    .dataframe tbody tr th {\n",
              "        vertical-align: top;\n",
              "    }\n",
              "\n",
              "    .dataframe thead th {\n",
              "        text-align: right;\n",
              "    }\n",
              "</style>\n",
              "<table border=\"1\" class=\"dataframe\">\n",
              "  <thead>\n",
              "    <tr style=\"text-align: right;\">\n",
              "      <th></th>\n",
              "      <th>PassengerId</th>\n",
              "      <th>Survived</th>\n",
              "      <th>Pclass</th>\n",
              "      <th>Age</th>\n",
              "      <th>SibSp</th>\n",
              "      <th>Parch</th>\n",
              "      <th>Fare</th>\n",
              "    </tr>\n",
              "  </thead>\n",
              "  <tbody>\n",
              "    <tr>\n",
              "      <th>count</th>\n",
              "      <td>891.000000</td>\n",
              "      <td>891.000000</td>\n",
              "      <td>891.000000</td>\n",
              "      <td>714.000000</td>\n",
              "      <td>891.000000</td>\n",
              "      <td>891.000000</td>\n",
              "      <td>891.000000</td>\n",
              "    </tr>\n",
              "    <tr>\n",
              "      <th>mean</th>\n",
              "      <td>446.000000</td>\n",
              "      <td>0.383838</td>\n",
              "      <td>2.308642</td>\n",
              "      <td>29.699118</td>\n",
              "      <td>0.523008</td>\n",
              "      <td>0.381594</td>\n",
              "      <td>32.204208</td>\n",
              "    </tr>\n",
              "    <tr>\n",
              "      <th>std</th>\n",
              "      <td>257.353842</td>\n",
              "      <td>0.486592</td>\n",
              "      <td>0.836071</td>\n",
              "      <td>14.526497</td>\n",
              "      <td>1.102743</td>\n",
              "      <td>0.806057</td>\n",
              "      <td>49.693429</td>\n",
              "    </tr>\n",
              "    <tr>\n",
              "      <th>min</th>\n",
              "      <td>1.000000</td>\n",
              "      <td>0.000000</td>\n",
              "      <td>1.000000</td>\n",
              "      <td>0.420000</td>\n",
              "      <td>0.000000</td>\n",
              "      <td>0.000000</td>\n",
              "      <td>0.000000</td>\n",
              "    </tr>\n",
              "    <tr>\n",
              "      <th>25%</th>\n",
              "      <td>223.500000</td>\n",
              "      <td>0.000000</td>\n",
              "      <td>2.000000</td>\n",
              "      <td>20.125000</td>\n",
              "      <td>0.000000</td>\n",
              "      <td>0.000000</td>\n",
              "      <td>7.910400</td>\n",
              "    </tr>\n",
              "    <tr>\n",
              "      <th>50%</th>\n",
              "      <td>446.000000</td>\n",
              "      <td>0.000000</td>\n",
              "      <td>3.000000</td>\n",
              "      <td>28.000000</td>\n",
              "      <td>0.000000</td>\n",
              "      <td>0.000000</td>\n",
              "      <td>14.454200</td>\n",
              "    </tr>\n",
              "    <tr>\n",
              "      <th>75%</th>\n",
              "      <td>668.500000</td>\n",
              "      <td>1.000000</td>\n",
              "      <td>3.000000</td>\n",
              "      <td>38.000000</td>\n",
              "      <td>1.000000</td>\n",
              "      <td>0.000000</td>\n",
              "      <td>31.000000</td>\n",
              "    </tr>\n",
              "    <tr>\n",
              "      <th>max</th>\n",
              "      <td>891.000000</td>\n",
              "      <td>1.000000</td>\n",
              "      <td>3.000000</td>\n",
              "      <td>80.000000</td>\n",
              "      <td>8.000000</td>\n",
              "      <td>6.000000</td>\n",
              "      <td>512.329200</td>\n",
              "    </tr>\n",
              "  </tbody>\n",
              "</table>\n",
              "</div>\n",
              "      <button class=\"colab-df-convert\" onclick=\"convertToInteractive('df-d6e08309-fa3a-4410-9ce9-c00c66dc55ef')\"\n",
              "              title=\"Convert this dataframe to an interactive table.\"\n",
              "              style=\"display:none;\">\n",
              "        \n",
              "  <svg xmlns=\"http://www.w3.org/2000/svg\" height=\"24px\"viewBox=\"0 0 24 24\"\n",
              "       width=\"24px\">\n",
              "    <path d=\"M0 0h24v24H0V0z\" fill=\"none\"/>\n",
              "    <path d=\"M18.56 5.44l.94 2.06.94-2.06 2.06-.94-2.06-.94-.94-2.06-.94 2.06-2.06.94zm-11 1L8.5 8.5l.94-2.06 2.06-.94-2.06-.94L8.5 2.5l-.94 2.06-2.06.94zm10 10l.94 2.06.94-2.06 2.06-.94-2.06-.94-.94-2.06-.94 2.06-2.06.94z\"/><path d=\"M17.41 7.96l-1.37-1.37c-.4-.4-.92-.59-1.43-.59-.52 0-1.04.2-1.43.59L10.3 9.45l-7.72 7.72c-.78.78-.78 2.05 0 2.83L4 21.41c.39.39.9.59 1.41.59.51 0 1.02-.2 1.41-.59l7.78-7.78 2.81-2.81c.8-.78.8-2.07 0-2.86zM5.41 20L4 18.59l7.72-7.72 1.47 1.35L5.41 20z\"/>\n",
              "  </svg>\n",
              "      </button>\n",
              "      \n",
              "  <style>\n",
              "    .colab-df-container {\n",
              "      display:flex;\n",
              "      flex-wrap:wrap;\n",
              "      gap: 12px;\n",
              "    }\n",
              "\n",
              "    .colab-df-convert {\n",
              "      background-color: #E8F0FE;\n",
              "      border: none;\n",
              "      border-radius: 50%;\n",
              "      cursor: pointer;\n",
              "      display: none;\n",
              "      fill: #1967D2;\n",
              "      height: 32px;\n",
              "      padding: 0 0 0 0;\n",
              "      width: 32px;\n",
              "    }\n",
              "\n",
              "    .colab-df-convert:hover {\n",
              "      background-color: #E2EBFA;\n",
              "      box-shadow: 0px 1px 2px rgba(60, 64, 67, 0.3), 0px 1px 3px 1px rgba(60, 64, 67, 0.15);\n",
              "      fill: #174EA6;\n",
              "    }\n",
              "\n",
              "    [theme=dark] .colab-df-convert {\n",
              "      background-color: #3B4455;\n",
              "      fill: #D2E3FC;\n",
              "    }\n",
              "\n",
              "    [theme=dark] .colab-df-convert:hover {\n",
              "      background-color: #434B5C;\n",
              "      box-shadow: 0px 1px 3px 1px rgba(0, 0, 0, 0.15);\n",
              "      filter: drop-shadow(0px 1px 2px rgba(0, 0, 0, 0.3));\n",
              "      fill: #FFFFFF;\n",
              "    }\n",
              "  </style>\n",
              "\n",
              "      <script>\n",
              "        const buttonEl =\n",
              "          document.querySelector('#df-d6e08309-fa3a-4410-9ce9-c00c66dc55ef button.colab-df-convert');\n",
              "        buttonEl.style.display =\n",
              "          google.colab.kernel.accessAllowed ? 'block' : 'none';\n",
              "\n",
              "        async function convertToInteractive(key) {\n",
              "          const element = document.querySelector('#df-d6e08309-fa3a-4410-9ce9-c00c66dc55ef');\n",
              "          const dataTable =\n",
              "            await google.colab.kernel.invokeFunction('convertToInteractive',\n",
              "                                                     [key], {});\n",
              "          if (!dataTable) return;\n",
              "\n",
              "          const docLinkHtml = 'Like what you see? Visit the ' +\n",
              "            '<a target=\"_blank\" href=https://colab.research.google.com/notebooks/data_table.ipynb>data table notebook</a>'\n",
              "            + ' to learn more about interactive tables.';\n",
              "          element.innerHTML = '';\n",
              "          dataTable['output_type'] = 'display_data';\n",
              "          await google.colab.output.renderOutput(dataTable, element);\n",
              "          const docLink = document.createElement('div');\n",
              "          docLink.innerHTML = docLinkHtml;\n",
              "          element.appendChild(docLink);\n",
              "        }\n",
              "      </script>\n",
              "    </div>\n",
              "  </div>\n",
              "  "
            ],
            "text/plain": [
              "       PassengerId    Survived      Pclass  ...       SibSp       Parch        Fare\n",
              "count   891.000000  891.000000  891.000000  ...  891.000000  891.000000  891.000000\n",
              "mean    446.000000    0.383838    2.308642  ...    0.523008    0.381594   32.204208\n",
              "std     257.353842    0.486592    0.836071  ...    1.102743    0.806057   49.693429\n",
              "min       1.000000    0.000000    1.000000  ...    0.000000    0.000000    0.000000\n",
              "25%     223.500000    0.000000    2.000000  ...    0.000000    0.000000    7.910400\n",
              "50%     446.000000    0.000000    3.000000  ...    0.000000    0.000000   14.454200\n",
              "75%     668.500000    1.000000    3.000000  ...    1.000000    0.000000   31.000000\n",
              "max     891.000000    1.000000    3.000000  ...    8.000000    6.000000  512.329200\n",
              "\n",
              "[8 rows x 7 columns]"
            ]
          },
          "metadata": {},
          "execution_count": 11
        }
      ]
    },
    {
      "cell_type": "code",
      "source": [
        "df_train[\"Survived\"].value_counts()"
      ],
      "metadata": {
        "colab": {
          "base_uri": "https://localhost:8080/"
        },
        "id": "lUyBIOYjQ588",
        "outputId": "6e6244b4-6623-4fa9-901d-29ce19391bdc"
      },
      "execution_count": null,
      "outputs": [
        {
          "output_type": "execute_result",
          "data": {
            "text/plain": [
              "0    549\n",
              "1    342\n",
              "Name: Survived, dtype: int64"
            ]
          },
          "metadata": {},
          "execution_count": 13
        }
      ]
    },
    {
      "cell_type": "markdown",
      "source": [
        "**Feature Selection**"
      ],
      "metadata": {
        "id": "-x07tbHeX3GQ"
      }
    },
    {
      "cell_type": "markdown",
      "source": [
        "For Numerical Values"
      ],
      "metadata": {
        "id": "4GZVg673ai6m"
      }
    },
    {
      "cell_type": "code",
      "source": [
        "from sklearn.pipeline import Pipeline\n",
        "from sklearn.impute import SimpleImputer\n",
        "from sklearn.preprocessing import StandardScaler\n"
      ],
      "metadata": {
        "id": "YSY5iVAaSaRZ"
      },
      "execution_count": null,
      "outputs": []
    },
    {
      "cell_type": "code",
      "source": [
        "num_pipeline=Pipeline([\n",
        "                       (\"impute\",SimpleImputer(strategy=\"median\")),\n",
        "                       (\"scaler\",StandardScaler())\n",
        "])"
      ],
      "metadata": {
        "id": "xckavioaZKB1"
      },
      "execution_count": null,
      "outputs": []
    },
    {
      "cell_type": "markdown",
      "source": [
        "For Categorical Values"
      ],
      "metadata": {
        "id": "ucNPjTjPac7E"
      }
    },
    {
      "cell_type": "code",
      "source": [
        "from sklearn.preprocessing import OneHotEncoder"
      ],
      "metadata": {
        "id": "7ACt4xOfZhRH"
      },
      "execution_count": null,
      "outputs": []
    },
    {
      "cell_type": "code",
      "source": [
        "cat_pipeline=Pipeline([\n",
        "                       (\"imputer\",SimpleImputer(strategy=\"most_frequent\")),\n",
        "                       (\"cat_encoder\",OneHotEncoder(sparse=False))\n",
        "])"
      ],
      "metadata": {
        "id": "eGFtqjoJZr0v"
      },
      "execution_count": null,
      "outputs": []
    },
    {
      "cell_type": "markdown",
      "source": [
        "Joining the numerical and categorical values"
      ],
      "metadata": {
        "id": "2dWItl04anvG"
      }
    },
    {
      "cell_type": "code",
      "source": [
        "from sklearn.compose import ColumnTransformer"
      ],
      "metadata": {
        "id": "g5iDKMVpaBVP"
      },
      "execution_count": null,
      "outputs": []
    },
    {
      "cell_type": "code",
      "source": [
        "num_attribs=[\"Age\",\"SibSp\", \"Parch\", \"Fare\"]\n",
        "cat_attribs=[\"Pclass\", \"Sex\", \"Embarked\"]"
      ],
      "metadata": {
        "id": "niUoSciDaydV"
      },
      "execution_count": null,
      "outputs": []
    },
    {
      "cell_type": "code",
      "source": [
        "preprocess_pipeline=ColumnTransformer([\n",
        "                                       (\"num\",num_pipeline,num_attribs),\n",
        "                                       (\"cat\",cat_pipeline,cat_attribs)\n",
        "])"
      ],
      "metadata": {
        "id": "bo0B__W9bIcV"
      },
      "execution_count": null,
      "outputs": []
    },
    {
      "cell_type": "markdown",
      "source": [
        "**Model Prepeartion**"
      ],
      "metadata": {
        "id": "EmR-1tiScd7y"
      }
    },
    {
      "cell_type": "code",
      "source": [
        "X_train=preprocess_pipeline.fit_transform(df_train[num_attribs+cat_attribs])"
      ],
      "metadata": {
        "id": "y9H1NhNPbjLi"
      },
      "execution_count": null,
      "outputs": []
    },
    {
      "cell_type": "code",
      "source": [
        "y_train=df_train[\"Survived\"]"
      ],
      "metadata": {
        "id": "yEFq9h5Xb3yJ"
      },
      "execution_count": null,
      "outputs": []
    },
    {
      "cell_type": "markdown",
      "source": [
        "**SGD Classifier**"
      ],
      "metadata": {
        "id": "6rQhc4REd5fi"
      }
    },
    {
      "cell_type": "code",
      "source": [
        "from sklearn.linear_model import SGDClassifier"
      ],
      "metadata": {
        "id": "ouMmO4lab8rq"
      },
      "execution_count": null,
      "outputs": []
    },
    {
      "cell_type": "code",
      "source": [
        "sgd_clf=SGDClassifier(random_state=42)"
      ],
      "metadata": {
        "id": "CYNUSlXScTG1"
      },
      "execution_count": null,
      "outputs": []
    },
    {
      "cell_type": "code",
      "source": [
        "sgd_clf.fit(X_train,y_train)"
      ],
      "metadata": {
        "colab": {
          "base_uri": "https://localhost:8080/"
        },
        "id": "dreXd0HpccIY",
        "outputId": "2ada4180-3cd5-4258-f50e-0aacd3fa3bb9"
      },
      "execution_count": null,
      "outputs": [
        {
          "output_type": "execute_result",
          "data": {
            "text/plain": [
              "SGDClassifier(random_state=42)"
            ]
          },
          "metadata": {},
          "execution_count": 34
        }
      ]
    },
    {
      "cell_type": "code",
      "source": [
        "X_test=preprocess_pipeline.transform(df_test[num_attribs+cat_attribs])\n",
        "y_test=df_test[\"Survived\"]"
      ],
      "metadata": {
        "id": "apm3I-91cnfc"
      },
      "execution_count": null,
      "outputs": []
    },
    {
      "cell_type": "code",
      "source": [
        "y_pred=sgd_clf.predict(X_test)"
      ],
      "metadata": {
        "id": "c7vOuppMdJV1"
      },
      "execution_count": null,
      "outputs": []
    },
    {
      "cell_type": "code",
      "source": [
        "y_pred"
      ],
      "metadata": {
        "colab": {
          "base_uri": "https://localhost:8080/"
        },
        "id": "S_LNXR_WdQqI",
        "outputId": "b936867d-be5d-480f-a997-0b06c9d70288"
      },
      "execution_count": null,
      "outputs": [
        {
          "output_type": "execute_result",
          "data": {
            "text/plain": [
              "array([0, 1, 1, 1, 0, 0, 0, 0, 0, 1, 0, 1, 0, 0, 1, 1, 0, 0, 0, 1, 0, 0,\n",
              "       1, 0, 0, 0, 0, 0, 1, 0, 0, 1, 1, 0, 0, 0, 0, 0, 0, 1, 0, 1, 0, 1,\n",
              "       1, 0, 0, 1, 0, 0, 0, 0, 1, 1, 0, 0, 1, 0, 1, 0, 0, 1, 0, 0, 1, 0,\n",
              "       1, 0, 0, 0, 0, 0, 0, 0, 0, 0, 0, 0, 0, 1, 0, 0, 1, 0, 1, 0, 0, 0,\n",
              "       1, 0, 0, 0, 0, 0, 0, 0, 0, 1, 1, 0, 1, 0, 0, 0, 0, 0, 1, 0, 0, 1,\n",
              "       0, 1, 0, 0, 1, 0, 0, 0, 1, 0, 0, 0, 0, 1, 0, 0, 0, 0, 1, 0, 0, 0,\n",
              "       0, 1, 0, 1, 1, 0, 0, 1, 1, 1, 0, 0, 0, 0, 0, 0, 0, 0, 0, 1, 0, 0,\n",
              "       0, 0, 1, 0, 0, 0, 0, 1, 0, 0, 0, 0, 1, 0, 0, 0, 0, 0, 1, 0, 0, 0,\n",
              "       0, 1, 0, 0, 0, 0, 0, 0, 1, 0, 1, 0, 0, 0, 1, 0, 0, 0, 1, 1, 0, 0,\n",
              "       1, 1, 0, 0, 0, 0, 0, 1, 0, 0, 1, 0, 0, 1, 0, 0, 0, 1, 1, 0, 1, 0,\n",
              "       0, 0, 0, 0, 0, 0, 0, 0, 0, 0, 1, 0, 0, 0, 0, 1, 0, 1, 0, 0, 1, 1,\n",
              "       0, 0, 0, 0, 1, 1, 0, 0, 0, 0, 0, 0, 0, 1, 1, 1, 1, 1, 0, 0, 0, 0,\n",
              "       1, 0, 0, 0, 1, 1, 0, 0, 1, 0, 1, 1, 1, 0, 0, 0, 0, 0, 0, 0, 0, 0,\n",
              "       0, 0, 0, 1, 1, 1, 0, 1, 0, 1, 0, 1, 0, 1, 1, 0, 0, 1, 0, 0, 1, 1,\n",
              "       0, 1, 1, 1, 1, 0, 0, 1, 1, 0, 1, 1, 0, 0, 1, 1, 0, 1, 0, 1, 0, 1,\n",
              "       1, 0, 0, 0, 1, 0, 0, 1, 0, 0, 0, 1, 0, 0, 0, 1, 1, 0, 0, 0, 0, 0,\n",
              "       0, 0, 0, 0, 1, 1, 1, 1, 0, 0, 1, 0, 0, 0, 1, 1, 1, 1, 0, 0, 0, 1,\n",
              "       0, 1, 1, 1, 0, 0, 1, 1, 0, 1, 0, 0, 0, 1, 0, 1, 0, 0, 0, 1, 1, 0,\n",
              "       1, 0, 0, 1, 0, 0, 0, 0, 1, 0, 0, 0, 0, 0, 0, 0, 1, 0, 0, 1, 1, 1,\n",
              "       0, 1, 0, 0, 0, 0, 0, 0, 1, 1, 0, 0, 0, 0, 1, 0, 0, 1, 0, 1, 0, 0,\n",
              "       1, 0, 0, 1, 0, 0, 1, 0, 1, 0, 0, 0, 1, 0, 0, 0, 0, 1, 1, 0, 0, 0,\n",
              "       0, 0, 0, 0, 0, 0, 0, 1, 0, 0, 1, 1, 1, 0, 0, 0, 0, 1, 0, 0, 0, 0,\n",
              "       0, 0, 1, 0, 0, 0, 0, 0, 0, 0, 0, 0, 1, 0, 1, 0, 0, 1, 1, 1, 1, 0,\n",
              "       1, 0, 0, 0, 0, 0, 0, 1, 0, 0, 1, 0, 1, 0, 1, 0, 0, 1, 0, 0, 1, 1,\n",
              "       0, 0, 1, 0, 0, 1, 1, 1, 0, 1, 0, 1, 1, 0, 0, 0, 0, 0, 1, 0, 0, 0,\n",
              "       1, 0, 0, 0, 1, 0, 1, 1, 1, 0, 0, 0, 0, 0, 1, 0, 0, 0, 0, 0, 0, 1,\n",
              "       0, 1, 0, 0, 1, 1, 1, 0, 1, 1, 0, 1, 0, 1, 0, 0, 0, 0, 0, 1, 0, 1,\n",
              "       0, 0, 1, 0, 0, 0, 1, 0, 0, 0, 0, 0, 0, 0, 1, 1, 0, 0, 1, 0, 0, 1,\n",
              "       0, 0, 1, 0, 0, 0, 0, 0, 0, 0, 0, 1, 0, 0, 0, 0, 1, 0, 0, 1, 0, 0,\n",
              "       0, 0, 0, 1, 0, 0, 1, 0, 0, 0, 0, 1, 0, 1, 0, 1, 1, 0, 0, 1, 0, 0,\n",
              "       0, 0, 0, 0, 0, 0, 0, 0, 0, 1, 1, 0, 0, 0, 0, 0, 0, 1, 0, 1, 1, 1,\n",
              "       0, 0, 0, 0, 0, 0, 0, 1, 0, 1, 0, 0, 0, 0, 0, 1, 0, 0, 1, 0, 1, 0,\n",
              "       0, 0, 1, 0, 1, 0, 1, 0, 0, 0, 0, 0, 1, 1, 0, 0, 1, 0, 0, 0, 0, 0,\n",
              "       1, 1, 0, 0, 1, 0, 0, 0, 0, 0, 0, 1, 0, 0, 0, 0, 1, 0, 0, 0, 0, 1,\n",
              "       0, 0, 1, 0, 0, 0, 1, 0, 0, 0, 0, 1, 0, 0, 0, 1, 0, 1, 1, 1, 0, 0,\n",
              "       0, 0, 1, 0, 1, 0, 0, 1, 0, 1, 1, 1, 0, 0, 0, 0, 1, 0, 0, 0, 0, 0,\n",
              "       0, 1, 0, 0, 1, 1, 0, 0, 0, 1, 0, 0, 0, 0, 0, 1, 0, 1, 0, 0, 0, 0,\n",
              "       0, 0, 1, 0, 0, 0, 1, 0, 0, 1, 0, 0, 0, 0, 0, 1, 1, 0, 0, 0, 0, 1,\n",
              "       0, 0, 0, 1, 0, 0, 1, 0, 0, 0, 0, 0, 0, 1, 0, 0, 1, 1, 1, 1, 1, 0,\n",
              "       1, 0, 0, 0, 1, 0, 0, 1, 1, 0, 0, 0, 0, 1, 0, 0, 1, 1, 0, 0, 0, 1,\n",
              "       1, 0, 1, 0, 0, 0, 0, 1, 0, 1, 0])"
            ]
          },
          "metadata": {},
          "execution_count": 37
        }
      ]
    },
    {
      "cell_type": "markdown",
      "source": [
        "**Evaluating Model**"
      ],
      "metadata": {
        "id": "C1lK-9Fyfdvr"
      }
    },
    {
      "cell_type": "code",
      "source": [
        "from sklearn.model_selection import cross_val_score"
      ],
      "metadata": {
        "id": "D5AVRDJ0dTnH"
      },
      "execution_count": null,
      "outputs": []
    },
    {
      "cell_type": "code",
      "source": [
        "sgd_scores=cross_val_score(sgd_clf,X_train,y_train,cv=5,scoring=\"accuracy\")"
      ],
      "metadata": {
        "id": "84A1TLzMdbSE"
      },
      "execution_count": null,
      "outputs": []
    },
    {
      "cell_type": "code",
      "source": [
        "sgd_scores.mean()"
      ],
      "metadata": {
        "colab": {
          "base_uri": "https://localhost:8080/"
        },
        "id": "CugzFynDdsVp",
        "outputId": "9089b2ae-18e8-4b4b-c60c-88fbd6c0d24a"
      },
      "execution_count": null,
      "outputs": [
        {
          "output_type": "execute_result",
          "data": {
            "text/plain": [
              "0.7800263636934279"
            ]
          },
          "metadata": {},
          "execution_count": 41
        }
      ]
    },
    {
      "cell_type": "code",
      "source": [
        "from sklearn.model_selection import cross_val_predict"
      ],
      "metadata": {
        "id": "rmvOlaZ6hO-e"
      },
      "execution_count": null,
      "outputs": []
    },
    {
      "cell_type": "code",
      "source": [
        "sgd_pred=cross_val_predict(sgd_clf,X_train,y_train,cv=5,method=\"decision_function\")"
      ],
      "metadata": {
        "id": "to4Np5sVhUWh"
      },
      "execution_count": null,
      "outputs": []
    },
    {
      "cell_type": "code",
      "source": [
        "sgd_pred"
      ],
      "metadata": {
        "colab": {
          "base_uri": "https://localhost:8080/"
        },
        "id": "9NwjUV-liMeL",
        "outputId": "9a99d65d-15d1-452a-b557-2dd3d7506b47"
      },
      "execution_count": null,
      "outputs": [
        {
          "output_type": "execute_result",
          "data": {
            "text/plain": [
              "array([-4.75743646e+00,  3.58434743e+00,  1.60372103e+00,  2.56015469e+00,\n",
              "       -3.18649749e+00, -3.16454049e+00, -6.70941693e-01, -6.85216046e+00,\n",
              "        3.47568872e+00,  2.40577142e+00,  1.06591687e+00,  3.85665489e+00,\n",
              "       -3.14739210e+00,  3.00173337e-02,  1.63436240e+00,  2.90178103e+00,\n",
              "       -8.37662289e+00, -1.82296303e+00,  8.46127224e-02,  2.45903937e+00,\n",
              "       -1.72315771e+00, -1.83860519e+00,  1.63334457e+00, -7.51748764e-01,\n",
              "       -2.09991219e+00,  4.80153641e+00, -2.30885106e+00, -1.60958821e+00,\n",
              "        1.59809106e+00, -3.16964861e+00,  1.32122749e-02,  4.29365813e+00,\n",
              "        1.59691778e+00, -1.94473282e+00, -1.05860208e+00, -2.23597414e+00,\n",
              "       -2.30881292e+00, -3.14999912e+00, -1.47906135e+00,  9.34448434e-01,\n",
              "       -1.62670246e-02,  1.42261793e+00, -2.30275945e+00,  4.38439759e+00,\n",
              "        1.62155430e+00, -3.16824831e+00, -4.69815941e+00,  1.59691778e+00,\n",
              "       -5.37272163e+00,  1.16687841e-01, -8.29373874e+00, -3.15226940e+00,\n",
              "        3.60512499e+00,  1.46280945e+00,  1.18186100e+00, -7.51748764e-01,\n",
              "        2.94047379e+00, -2.31011643e+00,  3.38670981e+00, -8.91351483e+00,\n",
              "       -2.29317076e+00,  4.39418104e+00, -1.95796711e+00, -5.87267601e+00,\n",
              "        4.44965903e-02, -2.91085878e+00,  2.91961758e+00, -3.14380159e+00,\n",
              "       -2.91763763e+00, -6.35260291e+00, -1.85609393e+00, -4.15865954e+00,\n",
              "       -1.25530636e+00, -3.83555322e+00, -2.73873450e+00, -3.16405967e+00,\n",
              "       -3.16964861e+00, -3.16824831e+00,  2.38607496e-01,  1.63461200e+00,\n",
              "       -3.14397909e+00, -3.15768772e+00,  1.59725833e+00, -6.46407823e-01,\n",
              "        2.95090189e+00, -3.13525656e+00, -1.72730938e+00, -3.16824831e+00,\n",
              "        3.14787411e+00, -3.15782020e+00, -3.17085533e+00, -3.14917018e+00,\n",
              "       -2.16308301e+00, -2.80141892e+00, -3.25633101e+00, -3.16824831e+00,\n",
              "       -4.64253330e-03,  1.30387987e+00,  3.94281628e+00, -3.31811610e+00,\n",
              "        1.59824181e+00, -3.16964861e+00,  5.68697426e-01, -3.17579663e+00,\n",
              "       -6.38797752e+00, -3.16964861e+00,  1.61425886e+00, -3.17074561e+00,\n",
              "       -3.19571888e+00,  1.48282662e-01, -6.51443856e-01,  9.62318005e-01,\n",
              "       -3.15260615e+00,  3.90518917e-02,  2.55340309e+00, -3.15113426e+00,\n",
              "       -3.28177126e+00, -3.35048655e+00,  2.97367379e+00, -2.66648818e+00,\n",
              "       -4.45043719e+00, -3.16824831e+00, -2.41034899e+00,  2.93319577e+00,\n",
              "        4.82665558e-01, -3.82822794e+00, -3.17097264e+00, -3.16606858e+00,\n",
              "        1.92162108e+00, -3.22232995e+00, -2.31579458e+00, -3.15647321e+00,\n",
              "        1.11163972e-02,  1.46280945e+00, -1.81514195e+00, -9.24460586e-01,\n",
              "        5.80134676e+00, -2.21294978e+00, -3.12636905e+00,  5.22413261e-01,\n",
              "        4.37731695e+00,  1.61255994e+00,  8.33375079e-02, -3.15659052e+00,\n",
              "       -1.81051444e+00, -2.25866883e+00, -3.16794970e+00,  5.38544926e-01,\n",
              "        1.18371522e-01, -1.85946140e+00, -1.88723817e+00,  2.71664110e+00,\n",
              "       -3.23994153e+00, -1.29682316e+00, -3.17494563e+00,  1.21291069e+00,\n",
              "        1.62805044e+00, -3.17346236e+00, -3.16268612e+00, -1.35448433e+01,\n",
              "       -2.21413786e+00,  2.93861615e+00, -3.16553156e+00, -3.13400883e+00,\n",
              "       -8.27809658e+00, -1.15998812e+00,  5.11594330e+00,  3.82889695e+00,\n",
              "       -1.60125958e+00, -4.32697424e+00, -4.12880602e+00, -2.92828234e+00,\n",
              "        1.02318610e+00, -2.98172700e+00, -1.76260670e+00, -3.62128573e+00,\n",
              "       -5.43719655e+00,  3.10546253e+00, -2.01253647e+00, -3.93475937e+00,\n",
              "       -4.22949332e+00,  5.21210813e-02, -5.01777638e+00, -3.78887526e+00,\n",
              "        3.63455911e+00, -2.01602652e+00,  6.97310123e-02, -8.77344195e-01,\n",
              "       -4.12935004e+00, -4.07078914e+00,  2.93449929e+00, -1.21352199e+00,\n",
              "        2.37618554e-02, -2.31457840e+00,  4.77067459e+00,  5.81301276e+00,\n",
              "       -2.26548845e+00, -4.98101362e+00,  1.59691778e+00,  2.82136423e+00,\n",
              "       -3.51732505e+00, -8.62756794e+00, -3.90139442e+00, -2.79459065e+00,\n",
              "       -2.76596747e+00,  2.28710757e+00, -4.31032621e+00, -1.57735600e+00,\n",
              "        3.00423834e+00, -6.05644608e-01, -3.18456544e+00,  1.88452481e+00,\n",
              "       -3.04273570e+00, -2.01253647e+00, -2.65854034e+00,  2.63567383e+00,\n",
              "        9.80521540e-01, -3.51843418e+00,  3.59324070e+00, -1.96946617e+00,\n",
              "       -2.62069211e+00, -1.79462343e+00, -5.16301092e+00, -3.48968770e+00,\n",
              "       -3.82457994e+00, -3.07891475e+00, -1.17045169e+00, -2.93377918e+00,\n",
              "       -1.14088430e+00, -1.03912193e+00,  9.03821194e-01, -3.56024422e+00,\n",
              "       -4.12764326e+00, -3.29151037e-01, -1.53364009e+00,  9.14344403e-01,\n",
              "       -3.64648142e+00,  2.82401531e+00, -1.17045169e+00, -2.21795912e+00,\n",
              "        2.35704597e+00,  1.60601637e+00, -1.89682849e+00, -3.04058218e+00,\n",
              "       -1.66870661e+00, -3.43177052e+00,  1.12838112e+00,  1.86424281e+00,\n",
              "       -3.57246122e+00, -4.37285823e+00, -3.47856178e+00, -6.71616891e-02,\n",
              "       -4.08170828e+00, -4.16935788e+00, -1.17937573e+00,  1.73254315e+00,\n",
              "        3.83368689e+00,  1.60794643e+00, -4.13677787e+00,  2.43179386e-01,\n",
              "       -2.26548845e+00, -4.58195030e+00, -5.12883607e+00, -2.02627278e+00,\n",
              "        2.13258617e+00, -2.40529226e+00, -5.20359390e+00, -3.66274540e+00,\n",
              "       -2.04518610e+00,  3.98283738e-01, -1.68869228e+00, -3.13574488e+00,\n",
              "        1.00890128e+00, -8.30974638e-01,  2.13258617e+00, -1.03499150e+00,\n",
              "       -3.23941786e-01, -1.64329557e+00, -3.14619538e+00, -6.71607977e-01,\n",
              "       -4.95308262e+00, -3.48897101e+00, -2.64567288e+00, -2.83860515e+00,\n",
              "       -1.60255168e+00, -1.91138507e+00, -3.66260041e+00, -3.05386162e+00,\n",
              "       -2.88418863e+00,  2.56841226e+00,  2.03029226e+00,  3.88971786e+00,\n",
              "       -4.91509205e-01,  1.18249857e+00, -3.19913698e+00,  3.22502001e-01,\n",
              "       -1.19663404e+00,  1.19678126e+00, -1.68007822e+00, -1.12983232e+00,\n",
              "        2.13258617e+00, -3.31862806e+00, -2.69991880e+00,  3.76369918e+00,\n",
              "       -3.49234428e+00, -3.12284467e+00,  3.28784325e+00,  3.72797437e+00,\n",
              "       -6.40397830e-01,  4.07209550e+00,  4.05604355e+00, -3.13079871e-01,\n",
              "        1.59343182e+00, -3.48968770e+00, -4.04379040e+00,  1.05437897e+00,\n",
              "        2.20434681e+00, -3.77306891e+00, -7.46081256e-01,  1.15062828e+00,\n",
              "       -3.04273570e+00, -3.41705002e+00,  3.61842382e+00,  1.83229819e+00,\n",
              "       -8.62756794e+00,  2.28034589e+00, -5.85816176e+00,  1.94971207e+00,\n",
              "       -3.85794988e-01,  4.60529387e+00,  1.07944656e+00, -2.91678139e+00,\n",
              "       -4.99050711e+00, -3.57821567e+00,  5.47864133e-01, -3.48968770e+00,\n",
              "       -2.76770285e+00,  1.93668211e+00, -4.72718484e+00, -3.00105937e+00,\n",
              "       -1.06133847e+00, -3.10742525e+00, -1.86726111e+00, -1.64934807e+00,\n",
              "       -2.44836255e+00,  2.82136423e+00,  1.65916135e+00,  3.73992100e-01,\n",
              "       -2.67033451e+00, -4.51982402e+00, -3.14939891e+00, -1.75760475e+00,\n",
              "       -1.43790528e+00, -3.83545728e+00, -1.52343125e+00, -3.51732505e+00,\n",
              "        5.48577955e+00,  1.80443671e+00,  1.76368558e+00,  1.76368558e+00,\n",
              "       -7.59370561e+00, -1.26222283e+00,  5.13918798e-01, -3.65203766e+00,\n",
              "       -4.16922936e+00, -3.19324922e+00,  3.13260514e+00,  2.35368148e+00,\n",
              "        1.75538578e+00,  7.64548453e+00,  2.43565948e-01, -3.85577750e+00,\n",
              "       -2.16078829e+00,  7.34696741e+00, -9.99620474e-01,  6.43121565e+00,\n",
              "        2.25839436e+00,  1.01993003e+01, -1.87759319e+00, -2.17845427e+00,\n",
              "        1.62044595e+01,  3.73320515e+00, -3.32826346e+00,  3.23697754e+00,\n",
              "       -2.97338690e+00,  3.71228186e+00, -8.05675711e+00,  2.95852023e+00,\n",
              "       -2.98408927e+00,  5.22060588e+00,  1.20256776e+00, -2.35549426e+00,\n",
              "       -6.34018234e+00,  8.87528727e+00,  1.11168833e+00, -2.44468235e+00,\n",
              "        1.49451531e+00, -1.83638064e+00, -7.80773241e-01,  3.64954098e+00,\n",
              "       -3.95258009e+00, -2.78510492e+00,  8.28664617e-01, -4.14674539e+00,\n",
              "        2.52750943e+00, -2.77165875e+00, -5.03407917e+00, -9.39066276e-01,\n",
              "       -2.35683045e+00, -2.94720030e+00, -2.97338690e+00, -3.04003581e+00,\n",
              "        5.85647049e+00, -1.90123280e+00, -4.39852055e+00,  1.77465775e+00,\n",
              "        1.91754061e+00,  2.98850881e+00, -1.24449009e+00,  2.83890896e+00,\n",
              "       -2.34163505e+00, -2.35950925e+00, -3.06391118e+00, -2.89452933e-01,\n",
              "       -3.76231638e+00, -3.01487304e+00,  2.82280823e+00,  5.30983666e+00,\n",
              "       -2.98275308e+00, -3.32023347e+00, -8.27414906e-01,  6.07453449e-01,\n",
              "        1.57417496e+00, -2.04183403e+00, -2.58844701e+00,  7.90284461e+00,\n",
              "       -8.53978142e-01, -1.33360999e+00,  6.31621202e+00, -1.49427797e+00,\n",
              "        5.34972139e-01, -2.15682850e+00, -4.39791843e+00,  3.67202495e+00,\n",
              "       -2.95946611e+00,  3.29070271e+00,  4.63970723e+00, -1.36254345e+00,\n",
              "        1.02138616e+00, -2.71418142e+00, -4.09181256e+00, -3.88228893e+00,\n",
              "       -2.96951341e-01,  2.65527912e-01, -2.96348111e+00, -2.43082314e+00,\n",
              "       -4.12737426e+00,  3.85246118e+00,  1.54928717e+00, -2.98275308e+00,\n",
              "       -2.61117672e+00, -3.49860965e+00, -1.75432164e+00, -2.84987572e+00,\n",
              "       -2.96348111e+00, -3.91960193e+00, -1.90123280e+00, -3.32468144e+00,\n",
              "       -2.98435908e+00,  1.40043554e+00, -3.01487304e+00, -3.81601506e+00,\n",
              "        9.13890573e-01,  4.80057599e+00,  2.42461515e+00,  8.07490932e-01,\n",
              "       -2.77165875e+00, -4.80151454e+00, -2.46234833e+00,  3.57806622e+00,\n",
              "       -8.77026184e+00, -1.90123280e+00, -4.92561910e+00, -1.24815655e+00,\n",
              "        2.53291592e+00, -2.94720030e+00,  5.67809431e+00, -2.66895004e+00,\n",
              "       -3.14185729e+00, -3.23665820e+00, -3.88228893e+00, -2.39055640e+00,\n",
              "       -2.98174569e+00, -2.55617510e+00, -2.33916447e+00, -1.92006061e+00,\n",
              "        3.86152624e+00, -2.51058970e+00,  8.94854493e+00, -2.62305853e+00,\n",
              "       -1.94306516e+00,  2.37970241e+00,  1.74762560e+00,  1.07073381e+00,\n",
              "        8.83216395e+00,  4.30203923e+00,  2.48580634e+00, -8.27414906e-01,\n",
              "       -2.03360834e+00,  3.27049152e-01, -3.07194117e+00, -2.96348111e+00,\n",
              "       -1.55778261e+00,  2.64953103e+00, -2.64233050e+00, -2.04206507e+00,\n",
              "        2.97629662e+00, -1.92921847e+00,  2.10930350e+00, -3.33013926e+00,\n",
              "        8.03321008e+00, -2.43825836e+00, -2.38472719e+00,  4.34677696e+00,\n",
              "       -2.38445738e+00, -4.09760421e+00,  1.54928717e+00,  1.17140923e+01,\n",
              "       -3.95258009e+00, -4.87290309e+00,  2.20310408e+00, -2.38445738e+00,\n",
              "       -3.87542253e+00,  3.70989413e+00,  1.63562852e+00,  4.53691787e+00,\n",
              "       -2.34361245e+00,  3.64375112e+00, -2.54913365e+00,  6.01439169e+00,\n",
              "        5.02579856e+00, -1.84211026e+00, -1.85646860e+00, -3.00428661e+00,\n",
              "       -1.51922222e+00, -1.36126323e+00,  9.09954225e-01, -8.84237099e-01,\n",
              "       -3.41646764e+00, -1.65540592e+00,  2.26064794e+00, -1.76991245e+00,\n",
              "       -1.78634882e+00, -2.41786014e+00,  5.04293660e-01, -1.34662469e+00,\n",
              "        2.28200342e+00, -1.01107175e-01,  2.63908556e+00, -7.89789533e-01,\n",
              "       -1.78638917e+00, -3.44578149e+00, -1.78345981e+00, -3.35955289e+00,\n",
              "        4.61358738e-01, -5.71959061e+00, -3.29501891e+00,  5.14523107e+00,\n",
              "       -2.46093302e+00, -3.38836932e+00, -2.02907996e+00,  1.54643148e-01,\n",
              "       -1.16004905e+00,  2.03452245e+00, -3.27340284e+00, -3.29165437e+00,\n",
              "        1.99412207e+00,  1.45588204e+00,  1.65183195e-01, -3.38833325e+00,\n",
              "        2.04002099e+00,  3.55403554e+00, -1.96375005e+00, -2.54012381e-01,\n",
              "       -2.46017734e+00,  5.15943041e+00, -1.91909986e+00, -4.33779868e-01,\n",
              "       -3.31647786e+00, -3.35955289e+00, -3.41027832e+00,  2.27298568e+00,\n",
              "       -3.49636469e+00,  4.37673038e+00, -3.04018246e+00, -3.43615837e+00,\n",
              "        2.04738619e+00, -3.51441657e+00, -2.46093516e+00, -1.53725892e+00,\n",
              "        8.47193479e-01, -3.35963144e+00, -1.09445804e+00, -3.47441961e+00,\n",
              "       -2.53749060e-01, -4.61164365e+00, -3.37398978e+00, -1.09334138e+00,\n",
              "        4.13759957e+00,  2.69688488e+00,  5.05126146e+00, -3.36006234e+00,\n",
              "        8.39992416e-01, -1.78638917e+00, -3.40980708e+00,  3.23613504e+00,\n",
              "       -3.42676722e+00, -7.18660121e-01,  9.96890343e-01, -1.77062983e+00,\n",
              "       -3.64855135e+00, -2.38827163e+00, -2.42653727e+00, -3.30939845e+00,\n",
              "       -3.30519758e+00, -1.33650555e+00, -4.18925066e-01,  2.79482313e+00,\n",
              "       -3.34527310e+00, -1.78639768e+00, -1.47409213e+00, -3.52518112e+00,\n",
              "       -2.30199203e-01, -1.11605892e+00, -6.45351358e-01,  2.03719709e+00,\n",
              "       -3.38833325e+00, -1.82587612e+00,  6.23966722e+00, -4.55393009e+00,\n",
              "       -3.30221928e+00,  3.66791263e+00, -5.95097166e-01, -3.33487194e+00,\n",
              "        3.35886619e-01, -1.51999255e+00, -3.29501891e+00, -3.99952015e-01,\n",
              "       -3.35980761e+00,  4.96999862e-01, -3.35963144e+00,  3.28518731e+00,\n",
              "       -3.30910342e+00,  2.03456280e+00,  2.10580470e+00, -4.12113246e+00,\n",
              "       -3.35963144e+00,  1.98237970e+00, -1.74781868e+00,  1.96752042e+00,\n",
              "       -3.60286865e+00, -2.54708520e+00, -1.23942748e+00, -3.41726859e+00,\n",
              "       -4.50066152e+00, -4.17856582e+00, -1.76217702e+00, -3.35969299e+00,\n",
              "       -3.46724044e+00,  1.53286604e+00,  1.93691853e+00, -2.30958309e+00,\n",
              "       -2.08651332e+00, -1.80525204e+00, -1.79033745e+00, -3.28790128e+00,\n",
              "       -3.33442579e+00,  5.34063231e-01,  6.20160897e+00,  1.15765831e+00,\n",
              "        2.03471987e+00, -1.70751660e-01, -3.30152091e+00, -6.88943582e+00,\n",
              "       -2.02757650e+00,  2.95150433e-01, -6.86573591e+00, -3.29385990e+00,\n",
              "       -3.28789069e+00,  4.07695280e+00, -2.30703582e+00,  2.70653491e+00,\n",
              "       -3.33487194e+00, -2.43939765e+00, -1.33226635e+00, -1.95575989e+00,\n",
              "       -3.47441961e+00,  2.03451395e+00, -3.38667783e-01, -3.46026505e+00,\n",
              "        2.59311784e+00, -1.15292082e+00,  2.60655508e+00, -1.76485589e+00,\n",
              "       -4.54377261e+00, -1.85606249e+00,  3.03705088e+00, -1.19219352e+00,\n",
              "        2.05445199e+00, -1.57553286e+00,  3.10850824e+00, -1.10253290e+00,\n",
              "       -1.96947569e+00, -3.36600185e+00, -1.95601462e+00, -3.29514414e+00,\n",
              "        6.09135204e-01,  3.75011043e+00, -1.78244090e+00, -3.39558884e+00,\n",
              "        5.78798669e+00, -4.47956764e+00, -4.19797623e-01, -1.02410968e+00,\n",
              "       -1.18849255e+00, -2.42824251e+00,  2.72244983e+00,  1.15768854e+00,\n",
              "       -4.89816300e-01,  1.00288072e+00,  1.12824816e+00, -2.20039559e+00,\n",
              "       -4.92771919e-02, -4.33308058e-03, -4.33308058e-03, -2.83161264e+00,\n",
              "        4.32273485e+00, -6.30804215e+00, -2.72191156e+00, -2.72191156e+00,\n",
              "       -7.04515962e-01, -1.81345753e+00,  3.32092388e+00, -2.92769068e+00,\n",
              "       -2.83554330e+00, -1.51694487e+00, -1.17769277e+00,  3.60912819e+00,\n",
              "       -8.86336517e-01, -2.83360614e+00,  5.70817983e+00, -4.47891624e-01,\n",
              "       -2.92851676e+00, -2.53306404e+00,  5.07518322e+00,  2.05019517e+00,\n",
              "       -2.72080461e+00,  2.01118678e-01, -2.95023550e+00,  2.35905796e+00,\n",
              "       -2.79501670e+00, -3.20438274e+00, -2.41237660e+00,  4.59644118e+00,\n",
              "       -2.26734032e+00,  1.50771838e+00, -8.10783094e-01,  1.06312641e+00,\n",
              "       -3.16787811e+00, -2.87815570e+00, -2.58859122e+00, -3.47684114e+00,\n",
              "        2.61702531e+00, -2.71448614e+00,  6.80726517e+00, -2.34260259e+00,\n",
              "       -2.72029763e+00,  1.97394540e+00, -2.72015926e+00,  2.09325537e+00,\n",
              "        1.72985772e+00,  3.02387926e+00, -7.42285466e-01, -1.72568926e-01,\n",
              "       -2.59924047e+00, -2.60145437e+00,  1.53805907e+00, -1.77190090e+00,\n",
              "        8.79032470e-01, -1.92898608e+00, -2.72029763e+00,  1.16150038e-01,\n",
              "        1.33268962e+00, -7.12218116e-01, -2.60860305e+00, -6.08645142e-01,\n",
              "        2.42523394e+00,  1.03391050e+00, -2.79007164e+00,  2.12821095e+00,\n",
              "       -4.19797623e-01,  4.65242737e+00,  1.66283098e+00, -1.93321418e-01,\n",
              "       -2.67394926e+00, -2.83388287e+00, -7.87895717e-01,  1.53496847e+00,\n",
              "       -6.08645142e-01,  2.46273822e+00, -2.64628067e+00, -3.31730185e+00,\n",
              "       -4.29893395e-01,  3.65146676e+00, -2.81804223e+00, -3.72431175e-01,\n",
              "        1.34446053e+00,  6.55536034e-01, -3.27244984e+00, -7.40587068e-02,\n",
              "        2.79169041e+00, -2.69262903e+00, -7.50126213e-01,  2.63679659e+00,\n",
              "       -1.66220540e+00, -2.71144203e+00, -3.25988891e+00,  3.54844222e+00,\n",
              "       -2.72029763e+00,  1.33569405e+00,  1.30830082e+00,  1.99710670e+00,\n",
              "       -2.71453263e+00, -2.53260355e+00, -2.34869081e+00,  3.39717133e+00,\n",
              "       -2.46601201e+00, -2.72361847e+00, -3.41096693e+00, -7.01195115e-01,\n",
              "       -2.42007876e+00,  2.87727179e-01,  3.08672333e+00, -2.95127069e+00,\n",
              "       -2.31493399e+00, -3.24685678e+00, -2.54515817e+00, -2.98629808e+00,\n",
              "        1.07920981e+00,  2.25303751e+00, -1.50842026e-01, -4.45797154e+00,\n",
              "        3.01993550e+00,  5.01629292e+00,  2.67041092e+00,  3.01131429e+00,\n",
              "        2.26608375e+00, -1.53502480e+00,  5.66257795e+00, -2.71453263e+00,\n",
              "       -3.81376594e+00, -1.78230637e-01,  2.46300345e+00,  1.33268962e+00,\n",
              "       -4.21025844e-02,  3.15589414e+00,  3.44689495e+00, -1.04470259e+00,\n",
              "       -2.73966924e+00, -6.23541481e-01, -2.64637255e+00,  3.43378717e+00,\n",
              "       -6.16626159e-01, -3.45175506e+00,  3.29686197e+00,  1.65436520e+00,\n",
              "       -2.44134104e+00, -2.38198602e+00, -2.72191156e+00,  3.02113057e+00,\n",
              "        5.14785257e+00, -2.91075908e+00,  1.35354123e+00, -1.65506868e-01,\n",
              "       -2.59924047e+00,  7.97437657e+00, -1.55411096e-01,  3.51325737e+00,\n",
              "        3.70527887e+00, -6.28976955e-01, -2.87137564e+00])"
            ]
          },
          "metadata": {},
          "execution_count": 58
        }
      ]
    },
    {
      "cell_type": "code",
      "source": [
        "from sklearn.metrics import confusion_matrix"
      ],
      "metadata": {
        "id": "hXO90Zv3etAb"
      },
      "execution_count": null,
      "outputs": []
    },
    {
      "cell_type": "code",
      "source": [
        "cnf_mat=confusion_matrix(y_test,y_pred)\n",
        "cnf_mat"
      ],
      "metadata": {
        "colab": {
          "base_uri": "https://localhost:8080/"
        },
        "id": "lktgpnfbe7sK",
        "outputId": "dafa6a07-2452-4837-93cf-28aa6339f57c"
      },
      "execution_count": null,
      "outputs": [
        {
          "output_type": "execute_result",
          "data": {
            "text/plain": [
              "array([[493,  56],\n",
              "       [115, 227]])"
            ]
          },
          "metadata": {},
          "execution_count": 46
        }
      ]
    },
    {
      "cell_type": "code",
      "source": [
        "%matplotlib inline\n",
        "import matplotlib\n",
        "import matplotlib.pyplot as plt"
      ],
      "metadata": {
        "id": "ccTM7eJMfvAF"
      },
      "execution_count": null,
      "outputs": []
    },
    {
      "cell_type": "code",
      "source": [
        "plt.matshow(cnf_mat,cmap=plt.cm.gray)\n",
        "plt.show()"
      ],
      "metadata": {
        "colab": {
          "base_uri": "https://localhost:8080/",
          "height": 275
        },
        "id": "N0nKiNZDfTLy",
        "outputId": "49960452-af5c-4a7b-ad46-38ebcebe9cf2"
      },
      "execution_count": null,
      "outputs": [
        {
          "output_type": "display_data",
          "data": {
            "image/png": "[encoded data removed]",
            "text/plain": [
              "<Figure size 288x288 with 1 Axes>"
            ]
          },
          "metadata": {
            "needs_background": "light"
          }
        }
      ]
    },
    {
      "cell_type": "code",
      "source": [
        "from sklearn.metrics import precision_score,recall_score,f1_score"
      ],
      "metadata": {
        "id": "rRVIC3eMgiNN"
      },
      "execution_count": null,
      "outputs": []
    },
    {
      "cell_type": "code",
      "source": [
        "ps=precision_score(y_test,y_pred)\n",
        "ps"
      ],
      "metadata": {
        "colab": {
          "base_uri": "https://localhost:8080/"
        },
        "id": "XLOqBThqgtz4",
        "outputId": "5d328633-fd72-421e-ab4c-8daaf1480450"
      },
      "execution_count": null,
      "outputs": [
        {
          "output_type": "execute_result",
          "data": {
            "text/plain": [
              "0.8021201413427562"
            ]
          },
          "metadata": {},
          "execution_count": 54
        }
      ]
    },
    {
      "cell_type": "code",
      "source": [
        "rs=recall_score(y_test,y_pred)\n",
        "rs"
      ],
      "metadata": {
        "colab": {
          "base_uri": "https://localhost:8080/"
        },
        "id": "IMag58rUiYVS",
        "outputId": "cff40752-6113-48a3-c15e-e5433f007e68"
      },
      "execution_count": null,
      "outputs": [
        {
          "output_type": "execute_result",
          "data": {
            "text/plain": [
              "0.6637426900584795"
            ]
          },
          "metadata": {},
          "execution_count": 60
        }
      ]
    },
    {
      "cell_type": "code",
      "source": [
        "fs=f1_score(y_test,y_pred)\n",
        "fs"
      ],
      "metadata": {
        "colab": {
          "base_uri": "https://localhost:8080/"
        },
        "id": "0ZUd66nojyxq",
        "outputId": "d261e220-b948-41cc-e010-53bff75c7617"
      },
      "execution_count": null,
      "outputs": [
        {
          "output_type": "execute_result",
          "data": {
            "text/plain": [
              "0.7263999999999999"
            ]
          },
          "metadata": {},
          "execution_count": 56
        }
      ]
    },
    {
      "cell_type": "code",
      "source": [
        "from sklearn.metrics import roc_curve"
      ],
      "metadata": {
        "id": "Gm-EKkT7pAUs"
      },
      "execution_count": null,
      "outputs": []
    },
    {
      "cell_type": "code",
      "source": [
        "fpr,tpr,thresholds=roc_curve(y_train,sgd_pred)"
      ],
      "metadata": {
        "id": "R3T2K-11pFel"
      },
      "execution_count": null,
      "outputs": []
    },
    {
      "cell_type": "code",
      "source": [
        "def plot_roc_curve(fpr,tpr,label=None):\n",
        "  plt.plot(fpr,tpr,linewidth=4,label=label)\n",
        "  plt.plot([0,1],[0,1],\"k--\")\n",
        "  plt.grid(True,color='k')"
      ],
      "metadata": {
        "id": "SHZS3OcMpQ4i"
      },
      "execution_count": null,
      "outputs": []
    },
    {
      "cell_type": "code",
      "source": [
        "plot_roc_curve(fpr,tpr)\n",
        "plt.show()"
      ],
      "metadata": {
        "colab": {
          "base_uri": "https://localhost:8080/",
          "height": 265
        },
        "id": "HSql64HYp-yV",
        "outputId": "8c589c35-c33d-41d9-ebc1-6e2db4487ffc"
      },
      "execution_count": null,
      "outputs": [
        {
          "output_type": "display_data",
          "data": {
            "image/png": "[encoded data removed]",
            "text/plain": [
              "<Figure size 432x288 with 1 Axes>"
            ]
          },
          "metadata": {
            "needs_background": "light"
          }
        }
      ]
    },
    {
      "cell_type": "markdown",
      "source": [
        "**Random Forest Classifer**"
      ],
      "metadata": {
        "id": "sZAuXLAoeYpV"
      }
    },
    {
      "cell_type": "code",
      "source": [
        "from sklearn.ensemble import RandomForestClassifier"
      ],
      "metadata": {
        "id": "ZNJlvPPad2Z5"
      },
      "execution_count": null,
      "outputs": []
    },
    {
      "cell_type": "code",
      "source": [
        "forest_clf=RandomForestClassifier(n_estimators=100,random_state=42)"
      ],
      "metadata": {
        "id": "g_283NoHnlJh"
      },
      "execution_count": null,
      "outputs": []
    },
    {
      "cell_type": "code",
      "source": [
        "forest_clf.fit(X_train,y_train)"
      ],
      "metadata": {
        "colab": {
          "base_uri": "https://localhost:8080/"
        },
        "id": "jnqcbtr7oNPf",
        "outputId": "ee8fe9c9-3541-44c8-829b-5e04e10d5b12"
      },
      "execution_count": null,
      "outputs": [
        {
          "output_type": "execute_result",
          "data": {
            "text/plain": [
              "RandomForestClassifier(random_state=42)"
            ]
          },
          "metadata": {},
          "execution_count": 65
        }
      ]
    },
    {
      "cell_type": "code",
      "source": [
        "y_predict=forest_clf.predict(X_test)\n",
        "y_predict"
      ],
      "metadata": {
        "colab": {
          "base_uri": "https://localhost:8080/"
        },
        "id": "t5-BpJYKoSTL",
        "outputId": "375dbb9d-a939-4ded-8de3-20b4bd37ae31"
      },
      "execution_count": null,
      "outputs": [
        {
          "output_type": "execute_result",
          "data": {
            "text/plain": [
              "array([0, 1, 1, 1, 0, 0, 0, 0, 1, 1, 1, 1, 0, 0, 0, 1, 0, 0, 0, 1, 0, 0,\n",
              "       1, 1, 0, 1, 0, 0, 1, 0, 0, 1, 1, 0, 0, 0, 0, 0, 0, 1, 0, 0, 0, 1,\n",
              "       1, 0, 0, 1, 0, 0, 0, 0, 1, 1, 0, 1, 1, 0, 1, 0, 0, 1, 0, 0, 0, 1,\n",
              "       1, 0, 1, 0, 0, 0, 0, 0, 1, 0, 0, 0, 1, 1, 0, 1, 1, 0, 1, 1, 0, 0,\n",
              "       1, 0, 0, 0, 0, 0, 0, 0, 0, 1, 1, 0, 0, 0, 0, 0, 0, 0, 1, 0, 0, 1,\n",
              "       0, 0, 0, 0, 0, 0, 0, 0, 0, 0, 0, 0, 0, 1, 0, 1, 0, 1, 1, 0, 0, 0,\n",
              "       0, 1, 0, 0, 1, 0, 0, 0, 0, 1, 1, 0, 0, 0, 1, 0, 0, 0, 0, 1, 0, 0,\n",
              "       0, 0, 1, 0, 0, 0, 0, 1, 0, 0, 0, 1, 1, 0, 0, 0, 0, 0, 1, 0, 0, 0,\n",
              "       0, 0, 0, 0, 0, 0, 0, 1, 1, 0, 1, 0, 0, 0, 1, 0, 1, 1, 1, 1, 0, 0,\n",
              "       1, 1, 0, 0, 0, 0, 1, 0, 0, 1, 1, 1, 0, 1, 0, 0, 0, 1, 1, 0, 1, 0,\n",
              "       0, 0, 0, 0, 1, 0, 0, 0, 0, 0, 1, 0, 0, 1, 0, 0, 0, 1, 0, 0, 0, 1,\n",
              "       0, 0, 0, 0, 0, 1, 1, 0, 0, 0, 0, 0, 0, 1, 1, 1, 1, 1, 0, 1, 0, 0,\n",
              "       1, 0, 0, 0, 1, 1, 0, 1, 1, 0, 1, 1, 0, 0, 0, 1, 0, 0, 0, 0, 0, 0,\n",
              "       1, 0, 0, 1, 1, 1, 0, 0, 0, 0, 0, 0, 1, 1, 1, 1, 0, 1, 0, 1, 1, 1,\n",
              "       0, 1, 1, 1, 0, 0, 0, 1, 1, 0, 1, 1, 0, 0, 1, 1, 0, 1, 0, 1, 1, 1,\n",
              "       1, 0, 0, 0, 1, 0, 0, 1, 1, 0, 1, 1, 0, 0, 0, 1, 1, 1, 1, 0, 0, 0,\n",
              "       0, 0, 0, 0, 1, 0, 1, 1, 0, 0, 0, 0, 0, 0, 1, 1, 1, 1, 1, 0, 0, 0,\n",
              "       0, 1, 1, 0, 0, 0, 1, 1, 0, 1, 0, 0, 0, 1, 0, 1, 1, 1, 0, 1, 1, 0,\n",
              "       0, 0, 0, 1, 0, 0, 0, 0, 0, 0, 0, 1, 0, 0, 0, 0, 1, 0, 1, 0, 1, 1,\n",
              "       0, 0, 0, 0, 0, 0, 0, 0, 1, 1, 0, 1, 1, 1, 1, 0, 0, 1, 0, 1, 0, 0,\n",
              "       1, 0, 0, 1, 1, 1, 1, 1, 1, 1, 0, 0, 0, 1, 0, 1, 0, 1, 1, 0, 1, 0,\n",
              "       0, 0, 0, 0, 0, 0, 0, 1, 0, 0, 1, 1, 0, 0, 0, 0, 0, 1, 0, 0, 0, 1,\n",
              "       1, 0, 1, 0, 0, 1, 0, 0, 0, 0, 0, 0, 1, 0, 0, 0, 0, 0, 0, 0, 1, 0,\n",
              "       1, 1, 0, 1, 1, 0, 1, 1, 0, 0, 1, 0, 1, 0, 1, 0, 0, 1, 0, 0, 1, 0,\n",
              "       0, 0, 1, 0, 0, 1, 0, 1, 0, 1, 0, 1, 1, 0, 0, 1, 0, 0, 1, 1, 0, 1,\n",
              "       1, 0, 0, 1, 1, 0, 1, 0, 1, 1, 0, 0, 0, 0, 0, 0, 0, 0, 0, 1, 1, 1,\n",
              "       1, 1, 0, 0, 1, 1, 0, 0, 1, 1, 0, 0, 0, 1, 0, 1, 0, 0, 0, 1, 0, 0,\n",
              "       0, 0, 1, 0, 0, 1, 1, 0, 0, 0, 1, 0, 0, 1, 1, 1, 0, 0, 1, 0, 0, 1,\n",
              "       0, 0, 1, 0, 0, 1, 1, 0, 0, 0, 0, 1, 0, 0, 1, 0, 1, 0, 0, 1, 0, 0,\n",
              "       0, 0, 0, 1, 0, 0, 1, 1, 0, 1, 0, 1, 0, 1, 0, 1, 0, 0, 0, 0, 0, 0,\n",
              "       1, 0, 0, 0, 1, 0, 0, 0, 0, 1, 1, 0, 0, 1, 0, 0, 0, 1, 0, 1, 0, 1,\n",
              "       0, 0, 0, 0, 0, 0, 0, 1, 1, 1, 0, 0, 0, 0, 0, 1, 0, 0, 1, 1, 0, 0,\n",
              "       0, 0, 1, 1, 1, 1, 1, 1, 1, 0, 0, 0, 1, 1, 0, 0, 1, 0, 0, 0, 1, 0,\n",
              "       1, 1, 0, 0, 1, 0, 0, 0, 0, 0, 0, 1, 0, 0, 1, 0, 1, 0, 1, 0, 0, 1,\n",
              "       0, 0, 1, 1, 0, 0, 1, 1, 0, 0, 0, 1, 0, 0, 1, 1, 0, 1, 0, 0, 0, 0,\n",
              "       0, 0, 0, 0, 1, 0, 0, 1, 0, 1, 1, 1, 0, 0, 0, 0, 1, 0, 1, 0, 0, 0,\n",
              "       0, 0, 0, 0, 1, 1, 0, 0, 0, 1, 1, 1, 1, 0, 0, 0, 0, 1, 0, 0, 0, 0,\n",
              "       0, 0, 0, 0, 0, 0, 1, 1, 0, 1, 0, 0, 0, 1, 0, 1, 1, 1, 0, 0, 0, 1,\n",
              "       0, 0, 1, 1, 0, 0, 1, 0, 0, 0, 0, 0, 0, 1, 0, 0, 0, 1, 0, 1, 1, 1,\n",
              "       1, 0, 0, 0, 1, 0, 0, 1, 1, 0, 0, 1, 0, 1, 0, 0, 1, 1, 0, 0, 0, 1,\n",
              "       1, 0, 0, 0, 0, 0, 0, 1, 0, 1, 0])"
            ]
          },
          "metadata": {},
          "execution_count": 78
        }
      ]
    },
    {
      "cell_type": "code",
      "source": [
        "forest_score=cross_val_score(forest_clf,X_train,y_train,cv=5,scoring=\"accuracy\")\n",
        "forest_score.mean()"
      ],
      "metadata": {
        "colab": {
          "base_uri": "https://localhost:8080/"
        },
        "id": "6EGIDJmFoXYv",
        "outputId": "cb125eb8-12b1-4398-d06e-f5b298893750"
      },
      "execution_count": null,
      "outputs": [
        {
          "output_type": "execute_result",
          "data": {
            "text/plain": [
              "0.8069989328981231"
            ]
          },
          "metadata": {},
          "execution_count": 69
        }
      ]
    },
    {
      "cell_type": "code",
      "source": [
        "pre_score=precision_score(y_train,y_predict)\n",
        "pre_score"
      ],
      "metadata": {
        "colab": {
          "base_uri": "https://localhost:8080/"
        },
        "id": "6GePOS-aqnsY",
        "outputId": "fa59437f-8c66-41c6-9c04-0c47c24052d4"
      },
      "execution_count": null,
      "outputs": [
        {
          "output_type": "execute_result",
          "data": {
            "text/plain": [
              "0.990909090909091"
            ]
          },
          "metadata": {},
          "execution_count": 80
        }
      ]
    },
    {
      "cell_type": "code",
      "source": [
        "recall_score(y_train,y_predict)"
      ],
      "metadata": {
        "colab": {
          "base_uri": "https://localhost:8080/"
        },
        "id": "suGf3h4jrIvi",
        "outputId": "ca37dab3-867d-4b43-e615-50894ad45357"
      },
      "execution_count": null,
      "outputs": [
        {
          "output_type": "execute_result",
          "data": {
            "text/plain": [
              "0.956140350877193"
            ]
          },
          "metadata": {},
          "execution_count": 81
        }
      ]
    },
    {
      "cell_type": "code",
      "source": [
        "f1_score(y_train,y_predict)"
      ],
      "metadata": {
        "colab": {
          "base_uri": "https://localhost:8080/"
        },
        "id": "8wjRlIbVrRWW",
        "outputId": "03aebd34-d974-4798-bee2-075d40fd6785"
      },
      "execution_count": null,
      "outputs": [
        {
          "output_type": "execute_result",
          "data": {
            "text/plain": [
              "0.9732142857142858"
            ]
          },
          "metadata": {},
          "execution_count": 82
        }
      ]
    }
  ]
}